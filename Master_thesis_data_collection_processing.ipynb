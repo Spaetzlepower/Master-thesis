{
  "cells": [
    {
      "cell_type": "markdown",
      "metadata": {
        "id": "7j-F64K8qA-l"
      },
      "source": [
        "**Predicting price trends of digital products using various forecasting techniques: On the example of the Steam Community Marketplace**\n",
        "\n",
        "Research questions: \n",
        "- Are prices predictible at all?\n",
        "- Are machine learning methods better in predicting prices for digital goods compared to traditional methods (ARIMA,…)?\n",
        "- What is the most precise algorithm for predicting prices of digital goods?\n"
      ]
    },
    {
      "cell_type": "markdown",
      "metadata": {
        "id": "beYUQ_KJqaS1"
      },
      "source": [
        "Loading packages"
      ]
    },
    {
      "cell_type": "code",
      "execution_count": null,
      "metadata": {
        "id": "bn_2I2Mwp89r"
      },
      "outputs": [],
      "source": [
        "import pandas as pd\n",
        "from pandas import json_normalize\n",
        "import requests\n",
        "import json\n",
        "import time \n",
        "import random\n",
        "import matplotlib.pyplot as plt\n",
        "import numpy as np\n",
        "import os\n",
        "import feather\n",
        "import datetime "
      ]
    },
    {
      "cell_type": "markdown",
      "metadata": {
        "id": "-LpWp0FW6XDK"
      },
      "source": [
        "Set cookie"
      ]
    },
    {
      "cell_type": "code",
      "execution_count": null,
      "metadata": {
        "id": "RiFxbVuA6ZDU"
      },
      "outputs": [],
      "source": [
        "cookie = {'steamLoginSecure': 'xxx'}; #cookie for the steam marketplace obtained through the browser\n",
        "\n",
        "Game_id='730' #game id for a specific game"
      ]
    },
    {
      "cell_type": "markdown",
      "metadata": {
        "id": "4zH0cuym4djy"
      },
      "source": [
        "Getting amount and list of all items per game"
      ]
    },
    {
      "cell_type": "code",
      "execution_count": null,
      "metadata": {
        "id": "F7U3fy6n4izf"
      },
      "outputs": [],
      "source": [
        "Game_id='730' #game id for a specific game\n",
        "item_list_all=[]\n",
        "\n",
        "\n",
        "items_count = requests.get('https://steamcommunity.com/market/search/render/?search_descriptions=0&sort_column=default&sort_dir=desc&appid='+Game_id+'&norender=1&count=100', cookies=cookie).json();\n",
        "items_count = items_count['total_count'] #total number of ingame items for this game\n",
        "print(items_count)\n",
        "\n",
        "#steam only allows for 100 items per time and needs some time between requests\n",
        "for item_rank in range(0,items_count+50,50): #get 100 item batches per loop\n",
        "\n",
        "          time.sleep(random.uniform(1, 2.5)) #random wait time between api calls\n",
        "          while True:\n",
        "            try:\n",
        "              item_list = requests.get('https://steamcommunity.com/market/search/render/?start='+str(item_rank)+'&count=100&search_descriptions=0&sort_column=default&sort_dir=desc&appid='+Game_id+'&norender=1&count=5000', cookies=cookie).json();\n",
        "              print(item_list)\n",
        "              item_list = item_list['results']\n",
        "              if not item_list and (item_rank < items_count) : #if the item_list that we got as a response is empty and it shouldn't be empty (item rank is lower than total items)\n",
        "                print('empty list')\n",
        "                time.sleep(random.uniform(1, 2.5))\n",
        "                continue\n",
        "              else:\n",
        "                for item in item_list: \n",
        "                  item_list_all.append(item['hash_name']) #save all items to a list\n",
        "            except TypeError:\n",
        "              print('TypeError')\n",
        "              time.sleep(random.uniform(1, 2.5))\n",
        "              continue\n",
        "            break\n",
        " \n",
        "            \n",
        "        \n",
        "item_list_all = [*set(item_list_all)] #remove duplicates which can occure if list is reshuffled while data is obtained"
      ]
    },
    {
      "cell_type": "markdown",
      "metadata": {
        "id": "DhCpQp4Zo_vV"
      },
      "source": [
        "Check if every item is in the list"
      ]
    },
    {
      "cell_type": "code",
      "execution_count": null,
      "metadata": {
        "id": "OkqCLwHgg1wi",
        "colab": {
          "base_uri": "https://localhost:8080/"
        },
        "outputId": "17714b74-ffdb-420f-c2c6-6400ca5bbb7b"
      },
      "outputs": [
        {
          "output_type": "stream",
          "name": "stdout",
          "text": [
            "17327\n"
          ]
        }
      ],
      "source": [
        "print(len(item_list_all))"
      ]
    },
    {
      "cell_type": "markdown",
      "metadata": {
        "id": "FY0cK8typCnO"
      },
      "source": [
        "Save items to txt file so the item list doesn't have to collected everytime \n",
        "\n",
        "\n"
      ]
    },
    {
      "cell_type": "code",
      "execution_count": null,
      "metadata": {
        "id": "T_eUJzGudu-d"
      },
      "outputs": [],
      "source": [
        "#save item_list_all as a txt file\n",
        "with open('item_list_all_new4.txt', 'w') as f:\n",
        "    for line in item_list_all:\n",
        "        f.write(\"%s\\n\" % line)"
      ]
    },
    {
      "cell_type": "markdown",
      "source": [
        "**Break down item list in case you get disconnected from the api so not everything is lost**"
      ],
      "metadata": {
        "id": "BiA21Pos364r"
      }
    },
    {
      "cell_type": "code",
      "source": [
        "with open(\"item_list_all_new4.txt\",\"r\") as f:\n",
        " print(len(list(f)))"
      ],
      "metadata": {
        "colab": {
          "base_uri": "https://localhost:8080/"
        },
        "id": "SVFfVW3_aXiv",
        "outputId": "b593f3fb-8332-440a-b9d3-e83a751fec79"
      },
      "execution_count": null,
      "outputs": [
        {
          "output_type": "stream",
          "name": "stdout",
          "text": [
            "17327\n"
          ]
        }
      ]
    },
    {
      "cell_type": "code",
      "source": [
        "data_all = pd.DataFrame()\n",
        "n=1000 #blocks auf 1000 \n",
        "with open(\"item_list_all_new4.txt\",\"r\") as f:\n",
        "    item_list=list(f)\n",
        "    for i in range(0, len(item_list), n):\n",
        "    \n",
        "        #data_all = pd.DataFrame()\n",
        "        for item in item_list[i:i + n]:\n",
        "          \n",
        "          time.sleep(random.uniform(0.2, 1))\n",
        "          print(item)\n",
        "          item_name = item.replace(' ','%20'); # for http search requests spaces need to be converted to '%20'\n",
        "          item_name = item_name.replace('&','%26'); # also '&' need to be converted to '%26'\n",
        "          while True:\n",
        "                try:\n",
        "                  price_data = requests.get('https://steamcommunity.com/market/pricehistory/?appid='+Game_id+'&market_hash_name='+item_name, cookies=cookie).json(); # get item data\n",
        "                  print(price_data)\n",
        "                  df = json_normalize(price_data, 'prices') #convert json format to DataFrame\n",
        "                  if df.empty: #if the item has no price history then skip it\n",
        "                    print('no price history')\n",
        "                    #print(df)\n",
        "                    pass\n",
        "                  else:\n",
        "                    df = df.set_axis(['Date', 'Average_Price', 'Volume'], axis=1, inplace=False) # set names for columns\n",
        "                    df['Volume']=df['Volume'].astype('int')\n",
        "                    df['Item'] =item\n",
        "                    #print(df)\n",
        "                    data_all=data_all.append(df)\n",
        "                except TypeError:\n",
        "                  print('TypeError')\n",
        "                  pass\n",
        "                break\n",
        "          #print(data_all)\n",
        "        data_feather=data_all\n",
        "        data_feather=data_feather.reset_index()\n",
        "        data_feather.to_feather(str(i)+\"_block.feather\")\n",
        "        print(data_all)\n",
        "        "
      ],
      "metadata": {
        "id": "AItBbLhwo1n0"
      },
      "execution_count": null,
      "outputs": []
    },
    {
      "cell_type": "markdown",
      "source": [
        "**save to feather file**"
      ],
      "metadata": {
        "id": "LzxeQ1qxcBdz"
      }
    },
    {
      "cell_type": "code",
      "source": [
        "data_feather=data_new\n",
        "data_feather=data_feather.reset_index()\n",
        "data_feather.to_feather(\"data.feather\")"
      ],
      "metadata": {
        "id": "SE1ppjeGPY4c",
        "colab": {
          "base_uri": "https://localhost:8080/",
          "height": 207
        },
        "outputId": "b400e0a3-4166-477c-c41d-6e1ea54ac0ca"
      },
      "execution_count": null,
      "outputs": [
        {
          "output_type": "error",
          "ename": "NameError",
          "evalue": "ignored",
          "traceback": [
            "\u001b[0;31m---------------------------------------------------------------------------\u001b[0m",
            "\u001b[0;31mNameError\u001b[0m                                 Traceback (most recent call last)",
            "\u001b[0;32m<ipython-input-4-436af41b4911>\u001b[0m in \u001b[0;36m<module>\u001b[0;34m\u001b[0m\n\u001b[0;32m----> 1\u001b[0;31m \u001b[0mdata_feather\u001b[0m\u001b[0;34m=\u001b[0m\u001b[0mdata_new\u001b[0m\u001b[0;34m\u001b[0m\u001b[0;34m\u001b[0m\u001b[0m\n\u001b[0m\u001b[1;32m      2\u001b[0m \u001b[0mdata_feather\u001b[0m\u001b[0;34m=\u001b[0m\u001b[0mdata_feather\u001b[0m\u001b[0;34m.\u001b[0m\u001b[0mreset_index\u001b[0m\u001b[0;34m(\u001b[0m\u001b[0;34m)\u001b[0m\u001b[0;34m\u001b[0m\u001b[0;34m\u001b[0m\u001b[0m\n\u001b[1;32m      3\u001b[0m \u001b[0mdata_feather\u001b[0m\u001b[0;34m.\u001b[0m\u001b[0mto_feather\u001b[0m\u001b[0;34m(\u001b[0m\u001b[0;34m\"data.feather\"\u001b[0m\u001b[0;34m)\u001b[0m\u001b[0;34m\u001b[0m\u001b[0;34m\u001b[0m\u001b[0m\n",
            "\u001b[0;31mNameError\u001b[0m: name 'data_new' is not defined"
          ]
        }
      ]
    },
    {
      "cell_type": "code",
      "source": [
        "from google.colab import drive\n",
        "drive.mount('/content/drive')"
      ],
      "metadata": {
        "colab": {
          "base_uri": "https://localhost:8080/"
        },
        "id": "vBkKB5A4_wc_",
        "outputId": "9b74a5ad-cc98-4c09-9f2f-1494a62fbc6f"
      },
      "execution_count": null,
      "outputs": [
        {
          "output_type": "stream",
          "name": "stdout",
          "text": [
            "Mounted at /content/drive\n"
          ]
        }
      ]
    },
    {
      "cell_type": "code",
      "source": [
        "!cp /content/data_final.feather drive/MyDrive/Master/data_final.feather"
      ],
      "metadata": {
        "id": "hz1TYbgQAKBD"
      },
      "execution_count": null,
      "outputs": []
    },
    {
      "cell_type": "code",
      "source": [
        "!cp drive/MyDrive/Master/data_date_clean.feather /content/data_date_clean.feather"
      ],
      "metadata": {
        "id": "h_TFQ-Lapm-K"
      },
      "execution_count": null,
      "outputs": []
    },
    {
      "cell_type": "code",
      "source": [
        "n=1000000 #blocks auf 1000\n",
        "data_new = pd.DataFrame()\n",
        "df=data_load\n",
        "for i in range(0, len(data_load), n):\n",
        "  print(i)\n",
        "  print(i+n)\t\n",
        "  df_filter=df[i:i+n] \n",
        "  df_filter['Date'] = df_filter['Date'].str[:-7] #remove unwanted parts in the 'Date' column\n",
        "  df_filter['Date'] = pd.to_datetime(df_filter['Date']) #convert 'Date' column to datetime format\n",
        "  #print(df_filter)\n",
        "  data_new=data_new.append(df_filter)\n",
        "data_new=data_new.reset_index(drop=True)\n",
        "data_new.to_feather(\"data_date_clean.feather\")"
      ],
      "metadata": {
        "id": "xQkEaWWU6798"
      },
      "execution_count": null,
      "outputs": []
    },
    {
      "cell_type": "code",
      "source": [
        "#Playerbase statistic from steamcharts.com\n",
        "player_data = requests.get('https://steamcharts.com/app/730/chart-data.json').json(); # get player number history \n",
        "df_player = pd.DataFrame(player_data)\n",
        "df_player = df_player.set_axis(['Date', 'Player_Count'], axis=1, inplace=False)\n",
        "df_player['Date'] = pd.to_datetime(df_player['Date'], unit='ms').dt.date\n",
        "df_player=df_player[df_player['Date']< datetime.date(2022,9,1)]\n",
        "df_player=df_player.reset_index(drop=True)\n",
        "df_player.to_feather(\"player_count.feather\")\n",
        "print(df_player.to_string())"
      ],
      "metadata": {
        "id": "MVYKlj7qRR4O"
      },
      "execution_count": null,
      "outputs": []
    }
  ],
  "metadata": {
    "colab": {
      "provenance": []
    },
    "kernelspec": {
      "display_name": "Python 3",
      "name": "python3"
    },
    "language_info": {
      "name": "python"
    }
  },
  "nbformat": 4,
  "nbformat_minor": 0
}